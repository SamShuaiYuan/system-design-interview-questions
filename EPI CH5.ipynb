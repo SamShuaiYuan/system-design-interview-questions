{
 "cells": [
  {
   "cell_type": "markdown",
   "metadata": {},
   "source": [
    "# Chapter 5 Array"
   ]
  },
  {
   "cell_type": "markdown",
   "metadata": {},
   "source": [
    "# 1.\n",
    "difference between .sort() and sorted()\n",
    "\n",
    ".sort() can only sort list; sorted() can deal with dictionary, sort by key"
   ]
  },
  {
   "cell_type": "code",
   "execution_count": 2,
   "metadata": {},
   "outputs": [
    {
     "data": {
      "text/plain": [
       "[1, 2, 3, 4]"
      ]
     },
     "execution_count": 2,
     "metadata": {},
     "output_type": "execute_result"
    }
   ],
   "source": [
    "A = [1, 3, 2, 4]\n",
    "A.sort()\n",
    "A"
   ]
  },
  {
   "cell_type": "code",
   "execution_count": 3,
   "metadata": {},
   "outputs": [
    {
     "data": {
      "text/plain": [
       "[1, 3, 2, 4]"
      ]
     },
     "execution_count": 3,
     "metadata": {},
     "output_type": "execute_result"
    }
   ],
   "source": [
    "B = [1, 3, 2, 4]\n",
    "sorted(B)\n",
    "B"
   ]
  },
  {
   "cell_type": "code",
   "execution_count": 4,
   "metadata": {},
   "outputs": [
    {
     "ename": "AttributeError",
     "evalue": "'dict' object has no attribute 'sort'",
     "output_type": "error",
     "traceback": [
      "\u001b[1;31m---------------------------------------------------------------------------\u001b[0m",
      "\u001b[1;31mAttributeError\u001b[0m                            Traceback (most recent call last)",
      "\u001b[1;32m<ipython-input-4-6964a18f4f9a>\u001b[0m in \u001b[0;36m<module>\u001b[1;34m\u001b[0m\n\u001b[0;32m      1\u001b[0m \u001b[0mC\u001b[0m \u001b[1;33m=\u001b[0m\u001b[1;33m{\u001b[0m\u001b[1;34m'test1'\u001b[0m\u001b[1;33m:\u001b[0m \u001b[1;36m1\u001b[0m\u001b[1;33m,\u001b[0m \u001b[1;34m'test3'\u001b[0m\u001b[1;33m:\u001b[0m \u001b[1;36m2\u001b[0m\u001b[1;33m,\u001b[0m \u001b[1;34m'test2'\u001b[0m\u001b[1;33m:\u001b[0m\u001b[1;36m3\u001b[0m\u001b[1;33m}\u001b[0m\u001b[1;33m\u001b[0m\u001b[1;33m\u001b[0m\u001b[0m\n\u001b[1;32m----> 2\u001b[1;33m \u001b[0mC\u001b[0m\u001b[1;33m.\u001b[0m\u001b[0msort\u001b[0m\u001b[1;33m(\u001b[0m\u001b[1;33m)\u001b[0m\u001b[1;33m\u001b[0m\u001b[1;33m\u001b[0m\u001b[0m\n\u001b[0m\u001b[0;32m      3\u001b[0m \u001b[0mC\u001b[0m\u001b[1;33m\u001b[0m\u001b[1;33m\u001b[0m\u001b[0m\n",
      "\u001b[1;31mAttributeError\u001b[0m: 'dict' object has no attribute 'sort'"
     ]
    }
   ],
   "source": [
    "C ={'test1': 1, 'test3': 2, 'test2':3}\n",
    "C.sort()\n",
    "C"
   ]
  },
  {
   "cell_type": "code",
   "execution_count": 21,
   "metadata": {},
   "outputs": [
    {
     "name": "stdout",
     "output_type": "stream",
     "text": [
      "E: ['test1', 'test2', 'test3']\n",
      "F: ['test1', 'test2', 'test3']\n",
      "G: [1, 2, 3]\n",
      "H: [('test1', 1), ('test2', 3), ('test3', 2)]\n",
      "J: [('test1', 1), ('test3', 2), ('test2', 3)]\n"
     ]
    }
   ],
   "source": [
    "D ={'test1': 1, 'test3': 2, 'test2':3}\n",
    "E = sorted(D)\n",
    "print('E:', E)\n",
    "F = sorted(D.keys())\n",
    "print('F:', F)\n",
    "G = sorted(D.values())\n",
    "print('G:', G)\n",
    "H = sorted(D.items(), key=lambda item: item[0])\n",
    "print('H:', H)\n",
    "J = sorted(D.items(), key=lambda item: item[1])\n",
    "print('J:', J)"
   ]
  },
  {
   "cell_type": "code",
   "execution_count": 23,
   "metadata": {},
   "outputs": [
    {
     "name": "stdout",
     "output_type": "stream",
     "text": [
      "[1, 2, 3, 4, 5, 6]\n"
     ]
    }
   ],
   "source": [
    "# 5.1  relative order not change\n",
    "# variant1: an rrary with three values, reorder the arrary \n",
    "# variant2: an arrary with four values, reorder the arrary ---\n",
    "\n",
    "def partition(pivot_id, A):\n",
    "    if not A or len(A) < 2:\n",
    "        return A\n",
    "    pivot = A[pivot_id]\n",
    "    small, equal, large = 0, 0, len(A)-1\n",
    "    while equal<=large:\n",
    "        # A[equal] is the incoming unclassified element A[samll] is the incoming(potential) smaller element\n",
    "        if A[equal] < pivot:\n",
    "            A[small], A[equal] = A[equal], A[small]\n",
    "            small, equal = small+1, equal+1\n",
    "        elif A[equal] == pivot:\n",
    "            equal += 1\n",
    "        else: \n",
    "            A[large], A[equal] = A[equal], A[large]\n",
    "            large -= 1\n",
    "    return A\n",
    "\n",
    "A = [6, 5, 4, 3, 2, 1]\n",
    "pivot_id = 3\n",
    "print(partition(pivot_id, A))          \n",
    "            "
   ]
  },
  {
   "cell_type": "code",
   "execution_count": 29,
   "metadata": {},
   "outputs": [
    {
     "name": "stdout",
     "output_type": "stream",
     "text": [
      "[1, 0, 0, 0, 0]\n"
     ]
    }
   ],
   "source": [
    "# 5.2\n",
    "# variant1: add two strings represent two bianry numbers\n",
    "def  plus_one(nums):\n",
    "    if not nums:\n",
    "        return\n",
    "    nums[-1] += 1\n",
    "    for i in range(len(nums)-1, 0, -1):\n",
    "        if nums[i] != 10:\n",
    "            break\n",
    "        nums[i] = 0\n",
    "        nums[i-1] += 1\n",
    "    if nums[0] == 10:\n",
    "        nums[0] = 0\n",
    "        nums.insert(0, 1)\n",
    "    return nums\n",
    "    \n",
    "nums = [9, 9, 9, 9]\n",
    "print(plus_one(nums))\n",
    "              "
   ]
  },
  {
   "cell_type": "code",
   "execution_count": 34,
   "metadata": {},
   "outputs": [
    {
     "name": "stdout",
     "output_type": "stream",
     "text": [
      "[1, 2, 1, 4, 0, 1]\n"
     ]
    }
   ],
   "source": [
    "# 5.3 multiply two arbitrary integers\n",
    "def multiply(nums1, nums2):\n",
    "    sign = -1 if (nums1[0]<0)^(nums2[0]<0) else 1\n",
    "    nums1[0], nums2[0] = abs(nums1[0]), abs(nums2[0])\n",
    "    \n",
    "    result = [0]*(len(nums1) + len(nums2))\n",
    "    for i in reversed(range(len(nums1))):\n",
    "        for j in reversed(range(len(nums2))):\n",
    "            result[i+j+1] += nums1[i]*nums2[j] # -1 or +1 careful\n",
    "            result[i+j] += result[i+j+1]//10\n",
    "            result[i+j+1] %= 10\n",
    "    result = result[next((i for i,x in enumerate(result) if x!= 0), len(result)):] or [0]\n",
    "    return [sign*result[0]] + result[1:]\n",
    "\n",
    "print(multiply([9, 8, 7], [1, 2, 3]))"
   ]
  },
  {
   "cell_type": "code",
   "execution_count": 40,
   "metadata": {},
   "outputs": [
    {
     "name": "stdout",
     "output_type": "stream",
     "text": [
      "True\n",
      "False\n"
     ]
    }
   ],
   "source": [
    "# 5.4 advance through an arrary\n",
    "def can_reach_end(nums):\n",
    "    furthest_so_far = 0\n",
    "    for i in range(len(nums)):\n",
    "        if furthest_so_far < i:\n",
    "            return False\n",
    "        elif furthest_so_far >= len(nums):\n",
    "            return True\n",
    "        else:\n",
    "            furthest_so_far = max(i + nums[i], furthest_so_far)\n",
    "    return furthest_so_far>= len(nums)\n",
    "\n",
    "nums = [3, 3, 1, 0, 2, 0, 1]\n",
    "print(can_reach_end(nums))\n",
    "nums = [3, 2, 0, 0, 2, 0, 1]\n",
    "print(can_reach_end(nums))"
   ]
  },
  {
   "cell_type": "code",
   "execution_count": 44,
   "metadata": {},
   "outputs": [
    {
     "name": "stdout",
     "output_type": "stream",
     "text": [
      "3\n",
      "3\n"
     ]
    }
   ],
   "source": [
    "# 5.4 variant: compute the minumum number of steps needed to advance to the last location\n",
    "def min_steps(nums):\n",
    "    step = [-1]*len(nums)\n",
    "    for i in range(len(nums)-1, -1, -1):\n",
    "        if nums[i] + i >= len(nums):\n",
    "            step[i] = 1\n",
    "        else:\n",
    "            min_step = step[nums[i] + i]\n",
    "            for j in range(i+1, nums[i] + i):\n",
    "                min_step = min(min_step, step[j])\n",
    "            step[i] = 1 + min_step\n",
    "    return step[0]\n",
    "        \n",
    "nums = [1, 3, 5, 8, 9, 2, 6, 7, 6, 8, 9]                  \n",
    "print(min_steps(nums))    \n",
    "\n",
    "def min_step_v2(nums, n): # just jump to last entry\n",
    "    if n <= 1:\n",
    "        return 0\n",
    "    if not nums:\n",
    "        return 0\n",
    "    if nums[0] == 0: # this corner case is important\n",
    "        return -1 \n",
    "    max_reach, step, jump = nums[0], nums[0], 1\n",
    "    for i in range(1, n):\n",
    "        if i == n-1:\n",
    "            return jump             \n",
    "        max_reach = max(max_reach, i + nums[i])\n",
    "        step -= 1\n",
    "        if step == 0:\n",
    "            if i >= max_reach:\n",
    "                return -1\n",
    "            step = max_reach - i\n",
    "            jump += 1\n",
    "    return -1\n",
    "nums = [1, 3, 5, 8, 9, 2, 6, 7, 6, 8, 9]                  \n",
    "print(min_step_v2(nums, len(nums)))            "
   ]
  },
  {
   "cell_type": "code",
   "execution_count": 45,
   "metadata": {},
   "outputs": [
    {
     "name": "stdout",
     "output_type": "stream",
     "text": [
      "[2, 3, 5, 6, 7, 8, 9]\n"
     ]
    }
   ],
   "source": [
    "# 5.5 delete duplicate from a sorted arrary\n",
    "def delte_duplicate(nums):\n",
    "    if not nums:\n",
    "        return []\n",
    "    index = 0\n",
    "    for i in range(1, len(nums)):\n",
    "        if nums[i] != nums[index]:\n",
    "            index += 1\n",
    "            nums[index] = nums[i]\n",
    "    return nums[:index+1]\n",
    "\n",
    "nums = [2,3, 5, 6, 6, 6, 7, 7, 8, 9, 9]\n",
    "print(delte_duplicate(nums))"
   ]
  },
  {
   "cell_type": "code",
   "execution_count": 53,
   "metadata": {},
   "outputs": [
    {
     "name": "stdout",
     "output_type": "stream",
     "text": [
      "30\n",
      "10\n",
      "12\n"
     ]
    }
   ],
   "source": [
    "# 5.6 buy sell stocks\n",
    "def buy_sell_once(nums):  \n",
    "    # like induction  if you wanna keep the length of days you hold the stock, then you can keep an min_reach arrary\n",
    "    min_reach, max_profit = float('inf'), 0\n",
    "    for price in nums:\n",
    "        min_reach = min(min_reach, price)\n",
    "        max_profit = max(max_profit, price - min_reach)\n",
    "    return max_profit\n",
    "\n",
    "nums = [310, 310, 275, 295, 260, 260, 290, 230, 255, 250]\n",
    "print(buy_sell_once(nums))\n",
    "\n",
    "\n",
    "def buy_sell_twice(nums):\n",
    "    max_profit, min_price_reach = 0, float('inf')\n",
    "    buy_sell_once_profit = [0]*len(nums)\n",
    "    for i, price in enumerate(nums):\n",
    "        min_price_reach = min(min_price_reach, price)\n",
    "        max_profit = max(max_profit, price - min_price_reach)\n",
    "        buy_sell_once_profit[i] = max_profit\n",
    "    max_price_reach = float('-inf')\n",
    "    for i, price in reversed(list(enumerate(nums[1:], start=1))):\n",
    "        max_price_reach = max(max_price_reach, price)\n",
    "        max_profit = max(max_profit, max_price_reach - price + buy_sell_once_profit[i-1])\n",
    "    return max_profit\n",
    "\n",
    "nums = [12, 11, 13, 9, 12, 8, 14, 13, 15]\n",
    "print(buy_sell_twice(nums))\n",
    "\n",
    "# variant: solve the buy_sell twice in O(n) time and O(1) space\n",
    "   \n",
    "def buy_sell_k_times(nums, n, k): # how about corner case, it has not been considered in the following code\n",
    "    # profit[t][i] = max(profit[t][i-1], price[i] + max(prevDiff, profit [t-1][i-1] – price[i-1])\n",
    "    # where prevDiff is max(profit[t-1][j] – price[j]) for all j in range [0, i-2]\n",
    "    profit = [[0 for j in range(n+1)] for i in range(k+1)]\n",
    "    for i in range(1, k+1):\n",
    "        prev_diff = float('-inf')\n",
    "        for j in range(1, n):\n",
    "            prev_diff = max(profit[i-1][j-1] - nums[j-1], prev_diff)\n",
    "            profit[i][j] = max(profit[i][j-1], prev_diff + nums[j])\n",
    "    return profit[k][n-1]\n",
    "\n",
    "nums = [12, 14, 17, 10, 14, 13, 12, 15] \n",
    "print(buy_sell_k_times(nums, len(nums), 3))\n",
    "\n",
    "# time complexity is O(kn); the space conmplexity can be reduced to O(n)    "
   ]
  },
  {
   "cell_type": "code",
   "execution_count": 54,
   "metadata": {},
   "outputs": [],
   "source": [
    "# 5.8     B[0]<=B[1]>= B[2]<=B[3]>=B[4]<=B[5]>=B[6] ...\n",
    "def rearrange(nums):\n",
    "    for i in range(len(nums)):\n",
    "        nums[i:i+2] = sorted(nums[i:i+2], reverse=i%2)"
   ]
  },
  {
   "cell_type": "code",
   "execution_count": 55,
   "metadata": {},
   "outputs": [
    {
     "name": "stdout",
     "output_type": "stream",
     "text": [
      "[2, 3, 5, 7, 11, 13]\n"
     ]
    }
   ],
   "source": [
    "# 5.9  enumerate all primes to n  time complexity O(nloglog n) \n",
    "def generate_primes(n):\n",
    "    primes = []\n",
    "    is_prime = [False, False] + [True]*(n-1)\n",
    "    for p in range(2, n):\n",
    "        if is_prime[p]:\n",
    "            primes.append(p)\n",
    "            for i in range(p, n+1, p):\n",
    "                is_prime[i] = False\n",
    "    return primes\n",
    "print(generate_primes(15))   "
   ]
  },
  {
   "cell_type": "code",
   "execution_count": 59,
   "metadata": {},
   "outputs": [
    {
     "name": "stdout",
     "output_type": "stream",
     "text": [
      "['b', 'c', 'a', 'd']\n",
      "['c', 'a', 'd', 'b', 'e']\n"
     ]
    }
   ],
   "source": [
    "# 5. 10 permute the elements of an arrary\n",
    "def apply_permutation(perm, nums):\n",
    "    def cyclic_permutation(start, perm, nums):\n",
    "        i, temp = start, nums[start]\n",
    "        while True:\n",
    "            next_i = perm[i]\n",
    "            next_temp = nums[next_i]\n",
    "            nums[next_i] = temp\n",
    "            i, temp = next_i, next_temp\n",
    "            if i == start:\n",
    "                break\n",
    "    for i in range(len(nums)):\n",
    "        j = perm[i]\n",
    "        while j != i:\n",
    "            if j < i:\n",
    "                break\n",
    "            j = perm[j]\n",
    "        else:\n",
    "            cyclic_permutation(i, perm, nums)\n",
    "            \n",
    "perm = [2, 0, 1, 3]\n",
    "nums = ['a', 'b', 'c', 'd']\n",
    "apply_permutation(perm, nums)\n",
    "print(nums)\n",
    "\n",
    "perm = [1, 3, 0, 2, 4]\n",
    "nums = ['a', 'b', 'c', 'd', 'e']\n",
    "apply_permutation(perm, nums)\n",
    "print(nums)"
   ]
  },
  {
   "cell_type": "code",
   "execution_count": 60,
   "metadata": {},
   "outputs": [
    {
     "name": "stdout",
     "output_type": "stream",
     "text": [
      "[(1, 0), (2, 1), (0, 2), (3, 3)]\n"
     ]
    }
   ],
   "source": [
    "# 5.10 inverse permutation use only constant additional storage\n",
    "def inverse_permutation(perm):\n",
    "    if len(perm) < 2:\n",
    "        return perm\n",
    "    def cyclic_permutation(start, perm):\n",
    "        i = start\n",
    "        while True:\n",
    "            next_i = perm[i]\n",
    "            temp = perm[next_i]\n",
    "            \n",
    "    \n",
    "    \n",
    "    \n",
    "    return sorted(list(enumerate(perm)), key= lambda x: x[1]) \n",
    "perm = [2, 0, 1, 3]\n",
    "print(inverse_permutation(perm))\n",
    "        "
   ]
  },
  {
   "cell_type": "code",
   "execution_count": null,
   "metadata": {},
   "outputs": [],
   "source": [
    "# 5.11 compute the next permutation\n",
    "def next_permutation(perm):\n",
    "    "
   ]
  },
  {
   "cell_type": "code",
   "execution_count": 61,
   "metadata": {},
   "outputs": [],
   "source": [
    "# sample offline data\n",
    "def random_sampling(k, nums):\n",
    "    for i in range(k):\n",
    "        r = random.randint(i, len(nums)-1)\n",
    "        nums[i], nums[r] = nums[r], nums[i]\n",
    "#smaple online data        \n",
    "def random_sampling_online(k, nums):\n",
    "    result = list(itertools.islice(nums, k))\n",
    "    index = k\n",
    "    for num in nums:\n",
    "        index += 1\n",
    "        idx_to_replace = random.randint(index)\n",
    "        if idx_to_replace < k:\n",
    "            result[idx_to_replace] = num\n",
    "    return result       \n",
    "# random permutation  # time complexity O(n)\n",
    "def random_permutation(n):\n",
    "    permutation = list(range(n))\n",
    "    random_sampling(n, permutation)\n",
    "    return permutation\n",
    "# random subset generation\n",
    "def online_sampling(n, k):\n",
    "    changed_elements = {}\n",
    "    for i in range(k):\n",
    "        \n"
   ]
  },
  {
   "cell_type": "code",
   "execution_count": 64,
   "metadata": {},
   "outputs": [
    {
     "name": "stdout",
     "output_type": "stream",
     "text": [
      "[1, 2, 3, 4, 5]\n"
     ]
    }
   ],
   "source": []
  },
  {
   "cell_type": "code",
   "execution_count": null,
   "metadata": {},
   "outputs": [],
   "source": []
  }
 ],
 "metadata": {
  "kernelspec": {
   "display_name": "Python 3",
   "language": "python",
   "name": "python3"
  },
  "language_info": {
   "codemirror_mode": {
    "name": "ipython",
    "version": 3
   },
   "file_extension": ".py",
   "mimetype": "text/x-python",
   "name": "python",
   "nbconvert_exporter": "python",
   "pygments_lexer": "ipython3",
   "version": "3.7.3"
  }
 },
 "nbformat": 4,
 "nbformat_minor": 2
}
